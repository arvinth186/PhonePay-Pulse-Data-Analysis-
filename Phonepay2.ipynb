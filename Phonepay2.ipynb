{
 "cells": [
  {
   "cell_type": "code",
   "execution_count": null,
   "id": "31c630af",
   "metadata": {},
   "outputs": [],
   "source": [
    "# %pip install plotly\n",
    "\n",
    "import pandas as pd\n",
    "import pymysql as mysql\n",
    "import plotly.express as px\n",
    "import requests\n",
    "import json\n",
    "\n"
   ]
  },
  {
   "cell_type": "code",
   "execution_count": null,
   "id": "82ebac94",
   "metadata": {},
   "outputs": [],
   "source": [
    "##\n",
    "#  i changed from Insurance_count to Transaction_count and Insurance_amount to Transaction_amount in all \n",
    "# places of the Insurance table code in data frame alone\n",
    "##"
   ]
  },
  {
   "cell_type": "code",
   "execution_count": null,
   "id": "d7ffcbfb",
   "metadata": {},
   "outputs": [],
   "source": [
    "conn = mysql.connect(\n",
    "    host='127.0.0.1',\n",
    "    user='root',\n",
    "    password='root',\n",
    "    database='phonepay'\n",
    ")\n",
    "cursor = conn.cursor()\n",
    "\n",
    "# Aggegrated Insurance table data fetching\n",
    "\n",
    "cursor.execute(\"select * from aggregated_insurance\")\n",
    "conn.commit()\n",
    "table1=cursor.fetchall()\n",
    "\n",
    "Aggre_insurance = pd.DataFrame(table1,columns=['States','Years','Quarter',\n",
    "                                               'Name','Transaction_count','Transaction_amount'])\n",
    "\n",
    "# Aggregated Transaction table data fetching\n",
    "cursor.execute(\"select * from aggregated_transaction\")\n",
    "conn.commit()\n",
    "table2=cursor.fetchall()\n",
    "\n",
    "Aggre_transaction = pd.DataFrame(table2,columns=['States','Years','Quarter',\n",
    "                                                 'Transaction_type','Transaction_count','Transaction_amount'])\n",
    "\n",
    "# Aggregated User table data fetching\n",
    "cursor.execute(\"select * from aggregated_user\")\n",
    "conn.commit()\n",
    "table3=cursor.fetchall()\n",
    "\n",
    "Aggre_user = pd.DataFrame(table3,columns=['States','Years','Quarter','Brand',\n",
    "                                          'Transaction_count','Percentage'])\n",
    "\n",
    "# Map Insurance table data fetching\n",
    "cursor.execute(\"select * from map_insurance\")\n",
    "conn.commit()\n",
    "table4=cursor.fetchall()\n",
    "\n",
    "Map_insurance = pd.DataFrame(table4,columns=['States','Years','Quarter',\n",
    "                                             'Districts','Transaction_count','Transaction_amount'])\n",
    "\n",
    "# Map Transaction table data fetching\n",
    "cursor.execute(\"select * from map_transaction\")\n",
    "conn.commit()\n",
    "table5=cursor.fetchall()\n",
    "\n",
    "Map_transaction = pd.DataFrame(table5,columns=['States','Years','Quarter',\n",
    "                                               'Districts','Transaction_count','Transaction_amount'])\n",
    "\n",
    "# Map User table data fetching\n",
    "cursor.execute(\"select * from map_user\")\n",
    "conn.commit()\n",
    "table6=cursor.fetchall()\n",
    "\n",
    "Map_user = pd.DataFrame(table6,columns=['States','Years','Quarter',\n",
    "                                        'Districts','RegisteredUsers','AppOpens'])\n",
    "\n",
    "# Top Insurance table data fetching\n",
    "cursor.execute(\"select * from top_insurance\")\n",
    "conn.commit()\n",
    "table7=cursor.fetchall()\n",
    "\n",
    "Top_insurance = pd.DataFrame(table7,columns=['States','Years','Quarter',\n",
    "                                             'Pincodes','Transaction_count','Transaction_amount'])\n",
    "\n",
    "# Top Transaction table data fetching\n",
    "cursor.execute(\"select * from top_transaction\")\n",
    "conn.commit()\n",
    "table8=cursor.fetchall()\n",
    "\n",
    "Top_transaction = pd.DataFrame(table8,columns=['States','Years','Quarter',\n",
    "                                               'Pincodes','Transaction_count','Transaction_amount'])\n",
    "\n",
    "# Top User table data fetching\n",
    "cursor.execute(\"select * from top_user\")\n",
    "conn.commit()\n",
    "table9=cursor.fetchall()\n",
    "\n",
    "Top_user = pd.DataFrame(table9,columns=['States','Years','Quarter',\n",
    "                                        'Pincodes','RegisteredUsers'])\n"
   ]
  },
  {
   "cell_type": "code",
   "execution_count": null,
   "id": "d352d8bd",
   "metadata": {},
   "outputs": [],
   "source": [
    "def Transaction_amount_count_Y(df,year):\n",
    "    tacy = df[df['Years']==year] \n",
    "    tacy.reset_index(drop=True,inplace=True)\n",
    "\n",
    "    tacyg = tacy.groupby('States')[['Transaction_count','Transaction_amount']].sum()\n",
    "    tacyg.reset_index(inplace=True)\n",
    "\n",
    "    fig_amount = px.bar(tacyg,x='States',y='Transaction_amount',title=f'{year} Transaction Amount',\n",
    "                        color_discrete_sequence=px.colors.sequential.Viridis)\n",
    "    fig_amount.show()\n",
    "\n",
    "    fig_count = px.bar(tacyg,x='States',y='Transaction_count',title=f'{year} Transaction Count',\n",
    "                        color_discrete_sequence=px.colors.sequential.Bluered_r)\n",
    "    fig_count.show()\n",
    "\n",
    "    url = \"https://gist.githubusercontent.com/jbrobst/56c13bbbf9d97d187fea01ca62ea5112/raw/e388c4cae20aa53cb5090210a42ebb9b765c0a36/india_states.geojson\"\n",
    "\n",
    "    response = requests.get(url)\n",
    "    states_name=[]\n",
    "    data1=json.loads(response.content)\n",
    "\n",
    "    for feature in data1['features']:\n",
    "        states_name.append(feature['properties']['ST_NM'])\n",
    "\n",
    "    states_name.sort()\n",
    "\n",
    "    fig_india_amount = px.choropleth(tacyg,geojson=data1,locations='States',color='Transaction_amount',\n",
    "                                     featureidkey='properties.ST_NM',title=f'{year} Transaction Amount by State',\n",
    "                                     range_color=(tacyg['Transaction_amount'].min(),tacyg['Transaction_amount'].max()),\n",
    "                                     color_continuous_scale='Viridis',fitbounds='locations',projection='mercator')\n",
    "    \n",
    "    fig_india_amount.update_geos(visible=False)\n",
    "    fig_india_amount.update_layout(dragmode=False)\n",
    "    fig_india_amount.show()\n",
    "\n",
    "    fig_india_count = px.choropleth(tacyg,geojson=data1,locations='States',color='Transaction_count',\n",
    "                                     featureidkey='properties.ST_NM',title=f'{year} Transaction Count by State',\n",
    "                                     range_color=(tacyg['Transaction_count'].min(),tacyg['Transaction_count'].max()),\n",
    "                                     color_continuous_scale='Bluered_r',fitbounds='locations',projection='mercator')\n",
    "\n",
    "    fig_india_count.update_geos(visible=False)\n",
    "    fig_india_amount.update_layout(dragmode=False)\n",
    "    fig_india_count.show()\n",
    "\n",
    "    return tacy"
   ]
  },
  {
   "cell_type": "code",
   "execution_count": null,
   "id": "cb984d24",
   "metadata": {},
   "outputs": [],
   "source": [
    "Transaction_amount_count_Y(Aggre_insurance,2020)"
   ]
  },
  {
   "cell_type": "code",
   "execution_count": null,
   "id": "59598e89",
   "metadata": {},
   "outputs": [],
   "source": [
    "# Quarterly Analysis for Insurance and Transaction by Quarter\n",
    "def Transaction_amount_count_Y_Q(df,quarter):\n",
    "    tacy = df[df['Quarter']==quarter] \n",
    "    tacy.reset_index(drop=True,inplace=True)\n",
    "\n",
    "    tacyg = tacy.groupby('States')[['Transaction_count','Transaction_amount']].sum()\n",
    "    tacyg.reset_index(inplace=True)\n",
    "\n",
    "    fig_amount = px.bar(tacyg,x='States',y='Transaction_amount',title=f'{tacy['Years'].unique()} Years {quarter} Quarter Transaction Amount',\n",
    "                        color_discrete_sequence=px.colors.sequential.Viridis)\n",
    "    fig_amount.show()\n",
    "\n",
    "    fig_count = px.bar(tacyg,x='States',y='Transaction_count',title=f'{tacy['Years'].unique()} Years {quarter} Quarter Transaction Count',\n",
    "                        color_discrete_sequence=px.colors.sequential.Bluered_r)\n",
    "    fig_count.show()\n",
    "\n",
    "    url = \"https://gist.githubusercontent.com/jbrobst/56c13bbbf9d97d187fea01ca62ea5112/raw/e388c4cae20aa53cb5090210a42ebb9b765c0a36/india_states.geojson\"\n",
    "\n",
    "    response = requests.get(url)\n",
    "    states_name=[]\n",
    "    data1=json.loads(response.content)\n",
    "\n",
    "    for feature in data1['features']:\n",
    "        states_name.append(feature['properties']['ST_NM'])\n",
    "\n",
    "    states_name.sort()\n",
    "\n",
    "    fig_india_amount = px.choropleth(tacyg,geojson=data1,locations='States',color='Transaction_amount',\n",
    "                                     featureidkey='properties.ST_NM',title=f'{tacy['Years'].unique()} Years {quarter} Quarter Transaction Amount by State',\n",
    "                                     range_color=(tacyg['Transaction_amount'].min(),tacyg['Transaction_amount'].max()),\n",
    "                                     color_continuous_scale='Viridis',fitbounds='locations',projection='mercator')\n",
    "    \n",
    "    fig_india_amount.update_geos(visible=False)\n",
    "    fig_india_amount.update_layout(dragmode=False)\n",
    "    fig_india_amount.show()\n",
    "\n",
    "    fig_india_count = px.choropleth(tacyg,geojson=data1,locations='States',color='Transaction_count',\n",
    "                                     featureidkey='properties.ST_NM',title=f'{tacy['Years'].unique()} Years {quarter} Quarter Transaction Count by State',\n",
    "                                     range_color=(tacyg['Transaction_count'].min(),tacyg['Transaction_count'].max()),\n",
    "                                     color_continuous_scale='Rainbow',fitbounds='locations',projection='mercator')\n",
    "\n",
    "    fig_india_count.update_geos(visible=False)\n",
    "    fig_india_count.update_layout(dragmode=False)\n",
    "    fig_india_count.show()\n",
    "\n",
    "    return tacy\n"
   ]
  },
  {
   "cell_type": "code",
   "execution_count": null,
   "id": "4e01ef81",
   "metadata": {},
   "outputs": [],
   "source": [
    "# Analysis of Transaction_count and Transaction_amount by Transaction_type for a State\n",
    "\n",
    "def Aggre_Transaction_Type(df,state):\n",
    "\n",
    "    tacy = df[df['States']== state]\n",
    "    tacy.reset_index(drop=True,inplace=True)\n",
    "    tacy\n",
    "\n",
    "    tacyg = tacy.groupby('Transaction_type')[['Transaction_count','Transaction_amount']].sum()\n",
    "    tacyg.reset_index(inplace=True)\n",
    "\n",
    "    fig_pie_1 = px.pie(data_frame=tacyg,names='Transaction_type',values='Transaction_amount',\n",
    "                    width=600,title=f\"Transaction Amount for {state}\",hole=0.5)\n",
    "\n",
    "    fig_pie_1.show()\n",
    "\n",
    "    fig_pie_2 = px.pie(data_frame=tacyg,names='Transaction_type',values='Transaction_count',\n",
    "                    width=600,title=f\"Transaction Count for {state}\",hole=0.5)\n",
    "\n",
    "    fig_pie_2.show()"
   ]
  },
  {
   "cell_type": "code",
   "execution_count": null,
   "id": "3e9fc548",
   "metadata": {},
   "outputs": [],
   "source": []
  },
  {
   "cell_type": "markdown",
   "id": "a3e5e7b2",
   "metadata": {},
   "source": [
    "## Aggregated_insurance"
   ]
  },
  {
   "cell_type": "code",
   "execution_count": null,
   "id": "d300d3b9",
   "metadata": {},
   "outputs": [],
   "source": [
    "tac_y = Transaction_amount_count_Y(Aggre_insurance,2022)"
   ]
  },
  {
   "cell_type": "code",
   "execution_count": null,
   "id": "37896e19",
   "metadata": {},
   "outputs": [],
   "source": [
    "Transaction_amount_count_Y_Q(tac_y,3)"
   ]
  },
  {
   "cell_type": "markdown",
   "id": "830eff30",
   "metadata": {},
   "source": [
    "## Aggregated_transaction"
   ]
  },
  {
   "cell_type": "code",
   "execution_count": null,
   "id": "afce2d89",
   "metadata": {},
   "outputs": [],
   "source": [
    "Aggre_trans_tac_y = Transaction_amount_count_Y(Aggre_transaction,2023)"
   ]
  },
  {
   "cell_type": "code",
   "execution_count": null,
   "id": "8fd07477",
   "metadata": {},
   "outputs": [],
   "source": [
    "Aggre_Transaction_Type(Aggre_trans_tac_y,'Tamil Nadu')"
   ]
  },
  {
   "cell_type": "markdown",
   "id": "b7a1f3c0",
   "metadata": {},
   "source": [
    "## Aggregated_User"
   ]
  },
  {
   "cell_type": "code",
   "execution_count": null,
   "id": "2bd46d3b",
   "metadata": {},
   "outputs": [],
   "source": [
    "Aggre_user"
   ]
  },
  {
   "cell_type": "code",
   "execution_count": null,
   "id": "27f23997",
   "metadata": {},
   "outputs": [],
   "source": [
    "# Aggregated User table data fetching by year\n",
    "# aguy -> Aggregated User Year\n",
    "\n",
    "def Aggre_user_brand_y(df,year):\n",
    "    aguy=df[df['Years']==year]\n",
    "    aguy.reset_index(drop=True,inplace=True)\n",
    "\n",
    "    aguyg =pd.DataFrame(aguy.groupby('Brand')['Transaction_count'].sum())\n",
    "    aguyg.reset_index(inplace=True)\n",
    "\n",
    "    fig_bar_1 = px.bar(aguyg,x='Brand',y='Transaction_count',title=f'{year} Transaction Count by Brand',\n",
    "                    color_discrete_sequence=px.colors.sequential.haline_r)\n",
    "    fig_bar_1.show()\n",
    "\n",
    "    return aguy"
   ]
  },
  {
   "cell_type": "code",
   "execution_count": null,
   "id": "a6e05e41",
   "metadata": {},
   "outputs": [],
   "source": [
    "Aggre_user_y=Aggre_user_brand_y(Aggre_user,2021)"
   ]
  },
  {
   "cell_type": "code",
   "execution_count": null,
   "id": "e539ddf3",
   "metadata": {},
   "outputs": [],
   "source": [
    "Aggre_user_y"
   ]
  },
  {
   "cell_type": "code",
   "execution_count": null,
   "id": "d5bb720e",
   "metadata": {},
   "outputs": [],
   "source": [
    "# Aggregated User table data fetching by Quarter\n",
    "# aguyq -> Aggregated User Year Quarter\n",
    "def Aggre_user_brand_Y_Q(df,Quarter):\n",
    "    \n",
    "    aguyq =df[df['Quarter']==Quarter]\n",
    "    aguyq.reset_index(drop=True,inplace=True)\n",
    "\n",
    "    aguyqg =pd.DataFrame(aguyq.groupby('Brand')['Transaction_count'].sum())\n",
    "    aguyqg.reset_index(inplace=True)\n",
    "\n",
    "    fig_bar_1 = px.bar(aguyqg,x='Brand',y='Transaction_count',title=f'{Quarter} Quarter Transaction Count by Brand',\n",
    "                    color_discrete_sequence=px.colors.sequential.haline_r)\n",
    "    fig_bar_1.show()\n",
    "\n",
    "    return aguyq"
   ]
  },
  {
   "cell_type": "code",
   "execution_count": null,
   "id": "dae37818",
   "metadata": {},
   "outputs": [],
   "source": [
    "Aggre_user_y_q = Aggre_user_brand_Y_Q(Aggre_user_y,2)"
   ]
  },
  {
   "cell_type": "code",
   "execution_count": null,
   "id": "1b58d72a",
   "metadata": {},
   "outputs": [],
   "source": [
    "Aggre_user_y_q\n",
    "# Aggre_user_y_q.groupby('States')[['Transaction_count','Percentage']].sum()\n"
   ]
  },
  {
   "cell_type": "code",
   "execution_count": null,
   "id": "325a8282",
   "metadata": {},
   "outputs": [],
   "source": [
    "# Aggregated User table data fetching by State for the selected Year and Quarter\n",
    "# aguyqs -> Aggregated User Year Quarter State\n",
    "\n",
    "def Aggre_user_brand_y_q_state(df,state):\n",
    "\n",
    "    aguyqs = df[df['States']==state]\n",
    "    aguyqs.reset_index(drop=True,inplace=True)\n",
    "\n",
    "    fig_line_1 = px.line(aguyqs,x='Brand',y='Transaction_count',title=f'{state} State Transaction Count by Brand',hover_data='Percentage',\n",
    "                         color_discrete_sequence=px.colors.sequential.Plasma,markers=True)\n",
    "\n",
    "    fig_line_1.show()\n",
    "\n",
    "    return aguyqs"
   ]
  },
  {
   "cell_type": "code",
   "execution_count": null,
   "id": "16a9a679",
   "metadata": {},
   "outputs": [],
   "source": [
    "Aggre_user_brand_y_q_state(Aggre_user_y_q,'Tamil Nadu')"
   ]
  },
  {
   "cell_type": "markdown",
   "id": "72ae04b2",
   "metadata": {},
   "source": [
    "## MAP Data Analysis"
   ]
  },
  {
   "cell_type": "code",
   "execution_count": null,
   "id": "5e4992f6",
   "metadata": {},
   "outputs": [],
   "source": [
    "Map_insurance"
   ]
  },
  {
   "cell_type": "markdown",
   "id": "c3a444bf",
   "metadata": {},
   "source": [
    "### map_insurance "
   ]
  },
  {
   "cell_type": "code",
   "execution_count": null,
   "id": "567074d8",
   "metadata": {},
   "outputs": [],
   "source": [
    "Map_insurance_amt_count= Transaction_amount_count_Y(Map_insurance,2021)\n",
    "Map_insurance_amt_count\n"
   ]
  },
  {
   "cell_type": "code",
   "execution_count": null,
   "id": "01da188c",
   "metadata": {},
   "outputs": [],
   "source": [
    "# Analysis of Transaction_count and Transaction_amount by district for a State for Map Insurance table\n",
    "\n",
    "def Map_insurance_district(df,state):\n",
    "\n",
    "    tacy = df[df['States']== state]\n",
    "    tacy.reset_index(drop=True,inplace=True)\n",
    "    tacy\n",
    "\n",
    "    tacyg = tacy.groupby('Districts')[['Transaction_count','Transaction_amount']].sum()\n",
    "    tacyg.reset_index(inplace=True)\n",
    "\n",
    "    fig_bar_1 = px.bar(data_frame=tacyg,x='Transaction_amount',y='Districts',\n",
    "                    width=600,title=f\"Transaction Amount for {state}\",color_discrete_sequence=px.colors.sequential.Mint_r)\n",
    "\n",
    "    fig_bar_1.show()\n",
    "\n",
    "    fig_bar_2 = px.bar(data_frame=tacyg,x='Transaction_count',y='Districts',\n",
    "                    width=600,title=f\"Transaction Count for {state}\",color_discrete_sequence=px.colors.sequential.Mint_r)\n",
    "\n",
    "\n",
    "    fig_bar_2.show()"
   ]
  },
  {
   "cell_type": "code",
   "execution_count": null,
   "id": "0714db85",
   "metadata": {},
   "outputs": [],
   "source": []
  },
  {
   "cell_type": "code",
   "execution_count": null,
   "id": "ff1e09ee",
   "metadata": {},
   "outputs": [],
   "source": [
    "# Map_insurance_district for a State\n",
    "\n",
    "Map_insurance_district(Map_insurance_amt_count,'West Bengal')\n"
   ]
  },
  {
   "cell_type": "code",
   "execution_count": null,
   "id": "a9c0b129",
   "metadata": {},
   "outputs": [],
   "source": [
    "Map_insurance_amt_count_Y_Q = Transaction_amount_count_Y_Q(Map_insurance_amt_count,2)\n"
   ]
  },
  {
   "cell_type": "code",
   "execution_count": null,
   "id": "75c10581",
   "metadata": {},
   "outputs": [],
   "source": [
    "Map_insurance_amt_count_Y_Q"
   ]
  },
  {
   "cell_type": "markdown",
   "id": "dbeb3c6d",
   "metadata": {},
   "source": [
    "## Map_transaction"
   ]
  },
  {
   "cell_type": "code",
   "execution_count": null,
   "id": "4f77ff4f",
   "metadata": {},
   "outputs": [],
   "source": [
    "Map_transaction"
   ]
  },
  {
   "cell_type": "code",
   "execution_count": null,
   "id": "3e1d9731",
   "metadata": {},
   "outputs": [],
   "source": [
    "Map_transaction_amt_count_Y = Transaction_amount_count_Y(Map_transaction,2020)\n",
    "Map_transaction_amt_count_Y"
   ]
  },
  {
   "cell_type": "code",
   "execution_count": null,
   "id": "f2345f46",
   "metadata": {},
   "outputs": [],
   "source": [
    "Map_transaction_amt_count_Y"
   ]
  },
  {
   "cell_type": "code",
   "execution_count": null,
   "id": "2552818f",
   "metadata": {},
   "outputs": [],
   "source": [
    "Map_insurance_district(Map_transaction_amt_count_Y,'West Bengal')\n"
   ]
  },
  {
   "cell_type": "code",
   "execution_count": null,
   "id": "06166645",
   "metadata": {},
   "outputs": [],
   "source": [
    "Map_transaction_amt_count_Y_Q = Transaction_amount_count_Y_Q(Map_transaction_amt_count_Y,2)\n",
    "Map_transaction_amt_count_Y_Q"
   ]
  },
  {
   "cell_type": "code",
   "execution_count": null,
   "id": "5bf7f6e2",
   "metadata": {},
   "outputs": [],
   "source": [
    "Map_insurance_district(Map_transaction_amt_count_Y_Q,'West Bengal')"
   ]
  },
  {
   "cell_type": "markdown",
   "id": "74264bc6",
   "metadata": {},
   "source": [
    "### Map_User"
   ]
  },
  {
   "cell_type": "code",
   "execution_count": null,
   "id": "86b7acbc",
   "metadata": {},
   "outputs": [],
   "source": [
    "Map_user"
   ]
  },
  {
   "cell_type": "code",
   "execution_count": null,
   "id": "91a46759",
   "metadata": {},
   "outputs": [],
   "source": [
    "def Map_User_State_plot(df,year):\n",
    "    muy=df[df['Years']==year]\n",
    "    muy.reset_index(drop=True,inplace=True)\n",
    "\n",
    "    muyg=muy.groupby('States')[['RegisteredUsers','AppOpens']].sum()\n",
    "    muyg.reset_index(inplace=True)\n",
    "\n",
    "    fig_line_1 = px.line(muyg,x='States',y=['RegisteredUsers','AppOpens'],title=f'{year} Registered Users and App Opens by States',markers=True,)\n",
    "\n",
    "    fig_line_1.show()\n",
    "    return muy"
   ]
  },
  {
   "cell_type": "code",
   "execution_count": null,
   "id": "db2becbf",
   "metadata": {},
   "outputs": [],
   "source": [
    "map_year = Map_User_State_plot(Map_user,2020)\n",
    "map_year['Quarter'].unique()"
   ]
  },
  {
   "cell_type": "code",
   "execution_count": null,
   "id": "24d003f1",
   "metadata": {},
   "outputs": [],
   "source": [
    "# Map_user table data fetching by quarter for RegisteredUsers and AppOpens for the above selected year\n",
    "def Map_User_State_plot_Y_Q(df,quarter):\n",
    "    muyq=df[df['Quarter']==quarter]\n",
    "    muyq.reset_index(drop=True,inplace=True)\n",
    "\n",
    "    muyqg=muyq.groupby('States')[['RegisteredUsers','AppOpens']].sum()\n",
    "    muyqg.reset_index(inplace=True)\n",
    "\n",
    "    fig_line_1 = px.line(muyqg,x='States',y=['RegisteredUsers','AppOpens'],title=f'{quarter} Quarter Registered Users and App Opens by States',markers=True,)\n",
    "\n",
    "    fig_line_1.show()\n",
    "    return muyq"
   ]
  },
  {
   "cell_type": "code",
   "execution_count": null,
   "id": "09e61d6a",
   "metadata": {},
   "outputs": [],
   "source": [
    "Map_state =Map_User_State_plot_Y_Q(Map_user,2)\n",
    "Map_state "
   ]
  },
  {
   "cell_type": "code",
   "execution_count": null,
   "id": "85f510af",
   "metadata": {},
   "outputs": [],
   "source": [
    "# Analysis of state wise for the above selected quarter and year in map_user table\n",
    "def Map_User_state_plot_Q(df,state):\n",
    "    muyqs =df[df['States']==state]\n",
    "    muyqs.reset_index(drop=True,inplace=True)\n",
    "\n",
    "    fig_map_user_bar_1 = px.bar(muyqs,x='RegisteredUsers',y='Districts',orientation='h',title=f'{state} Registered Users by Districts for {muyqs[\"Years\"].unique()} Years {muyqs[\"Quarter\"].unique()} Quarter',\n",
    "                                color_discrete_sequence=px.colors.sequential.Plasma_r)\n",
    "    fig_map_user_bar_1.show()\n",
    "\n",
    "    fig_map_user_bar_2 = px.bar(muyqs,x='AppOpens',y='Districts',orientation='h',title=f'{state} App Opens by Districts for {muyqs[\"Years\"].unique()} Years {muyqs[\"Quarter\"].unique()} Quarter',\n",
    "                                color_discrete_sequence=px.colors.sequential.Plasma_r)\n",
    "    fig_map_user_bar_2.show()   \n",
    "    return muyqs\n"
   ]
  },
  {
   "cell_type": "code",
   "execution_count": null,
   "id": "f74163a0",
   "metadata": {},
   "outputs": [],
   "source": [
    "Map_User_state_plot_Q(Map_state,'Tamil Nadu')"
   ]
  },
  {
   "cell_type": "markdown",
   "id": "2e715403",
   "metadata": {},
   "source": [
    "### Top Data Analysis"
   ]
  },
  {
   "cell_type": "code",
   "execution_count": null,
   "id": "9a6d8a59",
   "metadata": {},
   "outputs": [],
   "source": [
    "Top_insurance"
   ]
  },
  {
   "cell_type": "code",
   "execution_count": null,
   "id": "defa3358",
   "metadata": {},
   "outputs": [],
   "source": [
    "Top_insurance_amt_count_Y = Transaction_amount_count_Y(Top_insurance,2021)"
   ]
  },
  {
   "cell_type": "code",
   "execution_count": null,
   "id": "d0df000b",
   "metadata": {},
   "outputs": [],
   "source": [
    "# top insurance quarter wise analysis from above selected year\n",
    "# title=f'{tiyq[\"Years\"].unique()} Years {quarter} Quarter Transaction Amount by Pincode',\n",
    "\n",
    "def Top_insurance_amt_count_Y_Q(df,state):\n",
    "    tiyq=df[df['States']==state]\n",
    "    tiyq.reset_index(drop=True,inplace=True)\n",
    "\n",
    "    fig_amount = px.bar(tiyq,x='Quarter',y='Transaction_amount',title=\"Pincodes analysis\",\n",
    "                        color_discrete_sequence=px.colors.sequential.Viridis)\n",
    "\n",
    "    fig_amount.show()\n",
    "\n",
    "    # fig_count = px.bar(tiyqg,x='Transaction_count',y='Pincodes',title=f'{tiyq[\"Years\"].unique()} Years {quarter} Quarter Transaction Count by Pincode',\n",
    "    #                     color_discrete_sequence=px.colors.sequential.Bluered_r)\n",
    "    # fig_count.show()"
   ]
  },
  {
   "cell_type": "code",
   "execution_count": null,
   "id": "04edf278",
   "metadata": {},
   "outputs": [],
   "source": [
    "Top_insurance_amt_count_Y_Q(Top_insurance_amt_count_Y,'West Bengal')"
   ]
  },
  {
   "cell_type": "markdown",
   "id": "f9e5559d",
   "metadata": {},
   "source": [
    "### Top_Transaction Analysis"
   ]
  },
  {
   "cell_type": "code",
   "execution_count": null,
   "id": "3e747510",
   "metadata": {},
   "outputs": [],
   "source": [
    "Top_transaction"
   ]
  },
  {
   "cell_type": "code",
   "execution_count": null,
   "id": "1ddd3067",
   "metadata": {},
   "outputs": [],
   "source": [
    "Top_user"
   ]
  },
  {
   "cell_type": "code",
   "execution_count": null,
   "id": "6df83dfa",
   "metadata": {},
   "outputs": [],
   "source": [
    "# Top_user table data fetching by year\n",
    "# tuy -> Top User Year\n",
    "# tuyg_s_q -> Top User Year Groupby States and Quarter\n",
    "def Top_User_analysis_Y(df,year):\n",
    "    tuy=df[df['Years']==year]\n",
    "    tuy.reset_index(drop=True,inplace=True)\n",
    "\n",
    "    tuyg_s_q=pd.DataFrame(tuy.groupby(['States','Quarter'])['RegisteredUsers'].sum())\n",
    "    tuyg_s_q.reset_index(inplace=True)\n",
    "\n",
    "    fig_top_plot_1=px.bar(tuyg_s_q,x='States',y='RegisteredUsers',color='Quarter',\n",
    "                          title=f'{year} Registered Users by States and Quarter',color_discrete_sequence=px.colors.sequential.Plasma,\n",
    "                          hover_name='States')\n",
    "    \n",
    "    fig_top_plot_1.show()"
   ]
  },
  {
   "cell_type": "code",
   "execution_count": null,
   "id": "c8d50258",
   "metadata": {},
   "outputs": [],
   "source": [
    "Top_User_analysis_Y(Top_user,2021)"
   ]
  },
  {
   "cell_type": "code",
   "execution_count": null,
   "id": "91183acb",
   "metadata": {},
   "outputs": [],
   "source": [
    "def Top_user_state_plot_Y(df,year):\n",
    "    tuys=df[df['Years']==year]\n",
    "    tuys.reset_index(drop=True,inplace=True)\n",
    "\n",
    "    fig_top_plot_1=px.bar(tuys,x='Quarter',y='RegisteredUsers',color='Quarter',width=1000,height=600,\n",
    "                            title=f'{year} Registered Users by States and Quarter',color_discrete_sequence=px.colors.sequential.Burgyl,\n",
    "                            hover_data='Pincodes')\n",
    "    \n",
    "    fig_top_plot_1.show()\n",
    "\n",
    "    return tuys"
   ]
  },
  {
   "cell_type": "markdown",
   "id": "d8a1c617",
   "metadata": {},
   "source": [
    "# Business Case Analysis"
   ]
  },
  {
   "cell_type": "code",
   "execution_count": null,
   "id": "02d3ca48",
   "metadata": {},
   "outputs": [],
   "source": [
    "# cursor.execute(\"select * from aggregated_insurance\")\n",
    "# conn.commit()\n",
    "# table1=cursor.fetchall()\n",
    "# table1\n",
    "\n",
    "# Problem 1\n",
    "cursor.execute(\"\"\"select States,sum(Transaction_count) as Total_Transaction_count,\n",
    "               from aggregated_transaction\n",
    "               group by States\n",
    "               order by Total_Transaction_count desc\"\"\")\n",
    "conn.commit()\n",
    "query1 = cursor.fetchall()\n",
    "\n"
   ]
  },
  {
   "cell_type": "code",
   "execution_count": null,
   "id": "10991982",
   "metadata": {},
   "outputs": [],
   "source": []
  }
 ],
 "metadata": {
  "kernelspec": {
   "display_name": "Python 3",
   "language": "python",
   "name": "python3"
  },
  "language_info": {
   "codemirror_mode": {
    "name": "ipython",
    "version": 3
   },
   "file_extension": ".py",
   "mimetype": "text/x-python",
   "name": "python",
   "nbconvert_exporter": "python",
   "pygments_lexer": "ipython3",
   "version": "3.13.5"
  }
 },
 "nbformat": 4,
 "nbformat_minor": 5
}
